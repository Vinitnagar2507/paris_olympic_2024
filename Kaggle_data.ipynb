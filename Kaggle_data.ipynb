{
 "cells": [
  {
   "cell_type": "code",
   "execution_count": 1,
   "id": "58bb42b0-86b7-45f1-be75-1c25828bbb92",
   "metadata": {},
   "outputs": [],
   "source": [
    "import pandas as pd\n",
    "import kaggle\n",
    "import os"
   ]
  },
  {
   "cell_type": "code",
   "execution_count": null,
   "id": "76ae8902-556c-4923-9c8f-0038384c59c9",
   "metadata": {},
   "outputs": [],
   "source": [
    "# Set Kaggle API credentials directory\n",
    "os.environ['KAGGLE_CONFIG_DIR'] = 'Kaggle directory(.kaggle)'  # Update this path to your Kaggle configuration directory\n",
    "\n",
    "# Specify the dataset identifier\n",
    "dataset = 'piterfm/paris-2024-olympic-summer-games'\n",
    "\n",
    "# Set the download path\n",
    "download_path = 'directory where you want to store your file' # Change this to your preferred download directory\n",
    "\n",
    "# Remove existing files in the folder to prevent duplicates or outdated files\n",
    "for file in os.listdir(download_path):\n",
    "    file_path = os.path.join(download_path, file)\n",
    "    try:\n",
    "        if os.path.isfile(file_path):\n",
    "            os.unlink(file_path)  # Delete the file\n",
    "            print(f\"Deleted {file_path}\")\n",
    "    except Exception as e:\n",
    "        print(f\"Error deleting {file_path}: {e}\")\n",
    "\n",
    "# Download the dataset using the Kaggle API and unzip the files\n",
    "kaggle.api.dataset_download_files(dataset, path=download_path, unzip=True)\n",
    "\n",
    "# List of CSV files to be imported\n",
    "csv_files = [\n",
    "    'athletes.csv',\n",
    "    'events.csv',\n",
    "    'medallists.csv',\n",
    "    'medals.csv',\n",
    "    'medals_total.csv',\n",
    "    'schedules.csv',\n",
    "    'schedules_preliminary.csv',\n",
    "    'teams.csv',\n",
    "    'torch_route.csv',\n",
    "    'venues.csv'\n",
    "]\n",
    "\n",
    "# Initialize a dictionary to hold DataFrames\n",
    "dataframes = {}\n",
    "\n",
    "# Iterate through each CSV file and load it into a DataFrame\n",
    "for file in csv_files:\n",
    "    \n",
    "    # Construct the full path to the CSV file\n",
    "    file_path = os.path.join(download_path, file)\n",
    "    \n",
    "    # Load the CSV file into a Pandas DataFrame\n",
    "    df = pd.read_csv(file_path)\n",
    "    \n",
    "    # Add the DataFrame to the dictionary using the file name as the key\n",
    "    table_name = file.split('.')[0]  # Remove the .csv extension\n",
    "    dataframes[table_name] = df"
   ]
  }
 ],
 "metadata": {
  "kernelspec": {
   "display_name": "Python 3 (ipykernel)",
   "language": "python",
   "name": "python3"
  },
  "language_info": {
   "codemirror_mode": {
    "name": "ipython",
    "version": 3
   },
   "file_extension": ".py",
   "mimetype": "text/x-python",
   "name": "python",
   "nbconvert_exporter": "python",
   "pygments_lexer": "ipython3",
   "version": "3.11.5"
  }
 },
 "nbformat": 4,
 "nbformat_minor": 5
}
